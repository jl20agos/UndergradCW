{
 "cells": [
  {
   "cell_type": "code",
   "execution_count": 14,
   "metadata": {
    "collapsed": true
   },
   "outputs": [],
   "source": [
    "import numpy as np\n",
    "import scipy.misc\n",
    "import matplotlib.pyplot as plt"
   ]
  },
  {
   "cell_type": "code",
   "execution_count": 38,
   "metadata": {},
   "outputs": [
    {
     "name": "stdout",
     "output_type": "stream",
     "text": [
      "[ 1.  3.  6. 10. 15. 21. 28.]\n"
     ]
    }
   ],
   "source": [
    "#Solid 1\n",
    "N = 3\n",
    "qA = np.array([0,1,2,3,4,5,6])\n",
    "macroA = scipy.misc.factorial(qA+N-1)/(scipy.misc.factorial(qA)*scipy.misc.factorial(N-1))\n",
    "print(macroA)"
   ]
  },
  {
   "cell_type": "code",
   "execution_count": 39,
   "metadata": {},
   "outputs": [
    {
     "name": "stdout",
     "output_type": "stream",
     "text": [
      "[28. 21. 15. 10.  6.  3.  1.]\n"
     ]
    }
   ],
   "source": [
    "#Solid 2\n",
    "qB = 6-qA\n",
    "macroB = scipy.misc.factorial(qB+N-1)/(scipy.misc.factorial(qB)*scipy.misc.factorial(N-1))\n",
    "print(macroB)"
   ]
  },
  {
   "cell_type": "code",
   "execution_count": 40,
   "metadata": {},
   "outputs": [
    {
     "name": "stdout",
     "output_type": "stream",
     "text": [
      "[ 28.  63.  90. 100.  90.  63.  28.]\n"
     ]
    }
   ],
   "source": [
    "#Multiplicity\n",
    "mult = macroA*macroB\n",
    "print(mult)"
   ]
  },
  {
   "cell_type": "code",
   "execution_count": 48,
   "metadata": {},
   "outputs": [
    {
     "data": {
      "image/png": "[encoded data removed]",
      "text/plain": [
       "<matplotlib.figure.Figure at 0x213c64fbda0>"
      ]
     },
     "metadata": {},
     "output_type": "display_data"
    }
   ],
   "source": [
    "plt.bar(qA,mult,color ='c')\n",
    "plt.xlabel('Energy of Solid 1', fontsize = 14)\n",
    "plt.ylabel('Number of Microstates',fontsize = 14)\n",
    "plt.title('2 Solids of N=3, q=6',fontsize = 14)\n",
    "plt.show()"
   ]
  },
  {
   "cell_type": "code",
   "execution_count": 45,
   "metadata": {},
   "outputs": [
    {
     "name": "stdout",
     "output_type": "stream",
     "text": [
      "[  1.   6.  21.  56. 126. 252. 462.]\n",
      "[84. 56. 35. 20. 10.  4.  1.]\n",
      "[  84.  336.  735. 1120. 1260. 1008.  462.]\n"
     ]
    }
   ],
   "source": [
    "#Solid 1b\n",
    "N = 6\n",
    "qA = np.array([0,1,2,3,4,5,6])\n",
    "macroC = scipy.misc.factorial(qA+N-1)/(scipy.misc.factorial(qA)*scipy.misc.factorial(N-1))\n",
    "print(macroC)\n",
    "\n",
    "#Solid 2b\n",
    "N = 4\n",
    "qB = 6-qA\n",
    "macroD = scipy.misc.factorial(qB+N-1)/(scipy.misc.factorial(qB)*scipy.misc.factorial(N-1))\n",
    "print(macroD)\n",
    "\n",
    "#Multiplicity\n",
    "multB = macroC*macroD\n",
    "print(multB)"
   ]
  },
  {
   "cell_type": "code",
   "execution_count": 49,
   "metadata": {},
   "outputs": [
    {
     "data": {
      "image/png": "[encoded data removed]",
      "text/plain": [
       "<matplotlib.figure.Figure at 0x213c65282b0>"
      ]
     },
     "metadata": {},
     "output_type": "display_data"
    }
   ],
   "source": [
    "plt.bar(qA,multB,color ='r')\n",
    "plt.xlabel('Energy of Solid 1', fontsize = 14)\n",
    "plt.ylabel('Number of Microstates',fontsize = 14)\n",
    "plt.title('2 Solids of N=6 and N = 4, q=6',fontsize = 14)\n",
    "plt.show()"
   ]
  },
  {
   "cell_type": "code",
   "execution_count": 47,
   "metadata": {},
   "outputs": [
    {
     "name": "stdout",
     "output_type": "stream",
     "text": [
      "5005.0\n"
     ]
    }
   ],
   "source": [
    "print(sum(multB))"
   ]
  },
  {
   "cell_type": "code",
   "execution_count": 51,
   "metadata": {},
   "outputs": [
    {
     "data": {
      "text/plain": [
       "0.06713286713286713"
      ]
     },
     "execution_count": 51,
     "metadata": {},
     "output_type": "execute_result"
    }
   ],
   "source": [
    "336/5005"
   ]
  },
  {
   "cell_type": "code",
   "execution_count": null,
   "metadata": {
    "collapsed": true
   },
   "outputs": [],
   "source": []
  }
 ],
 "metadata": {
  "kernelspec": {
   "display_name": "Python 3",
   "language": "python",
   "name": "python3"
  },
  "language_info": {
   "codemirror_mode": {
    "name": "ipython",
    "version": 3
   },
   "file_extension": ".py",
   "mimetype": "text/x-python",
   "name": "python",
   "nbconvert_exporter": "python",
   "pygments_lexer": "ipython3",
   "version": "3.6.6"
  }
 },
 "nbformat": 4,
 "nbformat_minor": 2
}
